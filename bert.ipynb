{
 "cells": [
  {
   "cell_type": "code",
   "execution_count": 2,
   "metadata": {},
   "outputs": [],
   "source": [
    "from transformers import AutoModelForSequenceClassification, AutoTokenizer, pipeline\n",
    "from datasets import load_dataset"
   ]
  },
  {
   "cell_type": "code",
   "execution_count": 4,
   "metadata": {},
   "outputs": [
    {
     "name": "stderr",
     "output_type": "stream",
     "text": [
      "Downloading data: 100%|██████████| 12.3M/12.3M [00:01<00:00, 6.70MB/s]\n",
      "Downloading data: 100%|██████████| 592k/592k [00:00<00:00, 9.54MB/s]\n",
      "Generating train split: 100%|██████████| 15383/15383 [00:01<00:00, 10395.97 examples/s]\n",
      "Generating validation split: 100%|██████████| 1922/1922 [00:00<00:00, 3185.34 examples/s]\n",
      "Generating test split: 100%|██████████| 1924/1924 [00:00<00:00, 3020.34 examples/s]\n"
     ]
    }
   ],
   "source": [
    "dataset = load_dataset(\"Hate-speech-CNERG/hatexplain\", trust_remote_code=True)"
   ]
  },
  {
   "cell_type": "code",
   "execution_count": 7,
   "metadata": {},
   "outputs": [
    {
     "name": "stderr",
     "output_type": "stream",
     "text": [
      "d:\\anaconda3\\envs\\CS4248\\Lib\\site-packages\\huggingface_hub\\file_download.py:142: UserWarning: `huggingface_hub` cache-system uses symlinks by default to efficiently store duplicated files but your machine does not support them in C:\\Users\\yyxxc\\.cache\\huggingface\\hub\\models--Hate-speech-CNERG--bert-base-uncased-hatexplain. Caching files will still work but in a degraded version that might require more space on your disk. This warning can be disabled by setting the `HF_HUB_DISABLE_SYMLINKS_WARNING` environment variable. For more details, see https://huggingface.co/docs/huggingface_hub/how-to-cache#limitations.\n",
      "To support symlinks on Windows, you either need to activate Developer Mode or to run Python as an administrator. In order to activate developer mode, see this article: https://docs.microsoft.com/en-us/windows/apps/get-started/enable-your-device-for-development\n",
      "  warnings.warn(message)\n"
     ]
    }
   ],
   "source": [
    "tokenizer = AutoTokenizer.from_pretrained('Hate-speech-CNERG/bert-base-uncased-hatexplain')\n",
    "model = AutoModelForSequenceClassification.from_pretrained('Hate-speech-CNERG/bert-base-uncased-hatexplain')"
   ]
  },
  {
   "cell_type": "code",
   "execution_count": 14,
   "metadata": {},
   "outputs": [
    {
     "name": "stderr",
     "output_type": "stream",
     "text": [
      "Device set to use cpu\n"
     ]
    },
    {
     "data": {
      "text/plain": [
       "[{'label': 'hate speech', 'score': 0.8813939690589905}]"
      ]
     },
     "execution_count": 14,
     "metadata": {},
     "output_type": "execute_result"
    }
   ],
   "source": [
    "hate_classifier = pipeline(\"text-classification\", model=model, tokenizer=tokenizer)\n",
    "hate_classifier(\"nigger\")"
   ]
  }
 ],
 "metadata": {
  "kernelspec": {
   "display_name": "CS4248",
   "language": "python",
   "name": "python3"
  },
  "language_info": {
   "codemirror_mode": {
    "name": "ipython",
    "version": 3
   },
   "file_extension": ".py",
   "mimetype": "text/x-python",
   "name": "python",
   "nbconvert_exporter": "python",
   "pygments_lexer": "ipython3",
   "version": "3.11.11"
  }
 },
 "nbformat": 4,
 "nbformat_minor": 2
}
